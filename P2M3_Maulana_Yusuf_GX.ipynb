{
 "cells": [
  {
   "cell_type": "markdown",
   "id": "6bc1bcc0",
   "metadata": {},
   "source": [
    "# **I. Import Library Packages**"
   ]
  },
  {
   "cell_type": "code",
   "execution_count": 1,
   "id": "2d20245c",
   "metadata": {},
   "outputs": [],
   "source": [
    "# Import Library Packages\n",
    "import pandas as pd\n",
    "import great_expectations as ge\n",
    "from great_expectations.data_context import FileDataContext"
   ]
  },
  {
   "cell_type": "markdown",
   "id": "7a04ec84",
   "metadata": {},
   "source": [
    "By importing the Library Packages, it can be run smoothly with the requirement tasks."
   ]
  },
  {
   "cell_type": "markdown",
   "id": "5a1af195",
   "metadata": {},
   "source": [
    "# **II. Create Data Context**"
   ]
  },
  {
   "cell_type": "code",
   "execution_count": null,
   "id": "a5320374",
   "metadata": {},
   "outputs": [],
   "source": [
    "# Create data context\n",
    "context = FileDataContext.create(project_root_dir='./')"
   ]
  },
  {
   "cell_type": "markdown",
   "id": "94677c8c",
   "metadata": {},
   "source": [
    "# **III. Create Data Source and Asset**"
   ]
  },
  {
   "cell_type": "code",
   "execution_count": null,
   "id": "58b03f6f",
   "metadata": {},
   "outputs": [],
   "source": [
    "# Create data source\n",
    "datasource = context.sources.add_pandas('main-datasource')\n",
    "\n",
    "# Create data asset\n",
    "path = './data/P2M3_Maulana_Yusuf_data_clean.csv'\n",
    "asset = datasource.add_csv_asset('mobile-device-usage', filepath_or_buffer=path)\n",
    "\n",
    "# Build batch request\n",
    "batch_request = asset.build_batch_request()"
   ]
  },
  {
   "cell_type": "markdown",
   "id": "95322b8a",
   "metadata": {},
   "source": [
    "**`Insights`**:\n",
    "- **`main-datasource`**: Create a datasource called **'main-datasource'** that Pandas will utilize to read data.\n",
    "- **`mobile-device-usage`**: Add asset data named **'mobile-device-usage'** from a local CSV file. The path variable stores the path of the file.\n",
    "- **`batch_request`**: Batch request is a configuration used to read data (for example for validators)."
   ]
  },
  {
   "cell_type": "markdown",
   "id": "c814eb31",
   "metadata": {},
   "source": [
    "# **IV. Create an Expectation Suite**"
   ]
  },
  {
   "cell_type": "code",
   "execution_count": null,
   "id": "e8d495bb",
   "metadata": {},
   "outputs": [
    {
     "data": {
      "application/vnd.jupyter.widget-view+json": {
       "model_id": "280947b1b6f34a359a22455d871f69c3",
       "version_major": 2,
       "version_minor": 0
      },
      "text/plain": [
       "Calculating Metrics:   0%|          | 0/1 [00:00<?, ?it/s]"
      ]
     },
     "metadata": {},
     "output_type": "display_data"
    },
    {
     "data": {
      "text/html": [
       "<div>\n",
       "<style scoped>\n",
       "    .dataframe tbody tr th:only-of-type {\n",
       "        vertical-align: middle;\n",
       "    }\n",
       "\n",
       "    .dataframe tbody tr th {\n",
       "        vertical-align: top;\n",
       "    }\n",
       "\n",
       "    .dataframe thead th {\n",
       "        text-align: right;\n",
       "    }\n",
       "</style>\n",
       "<table border=\"1\" class=\"dataframe\">\n",
       "  <thead>\n",
       "    <tr style=\"text-align: right;\">\n",
       "      <th></th>\n",
       "      <th>user_id</th>\n",
       "      <th>device_model</th>\n",
       "      <th>operating_system</th>\n",
       "      <th>app_usage_time_(min/day)</th>\n",
       "      <th>screen_on_time_(hours/day)</th>\n",
       "      <th>battery_drain_(mAh/day)</th>\n",
       "      <th>number_of_apps_installed</th>\n",
       "      <th>data_usage_(MB/day)</th>\n",
       "      <th>age</th>\n",
       "      <th>gender</th>\n",
       "      <th>user_behavior_class</th>\n",
       "    </tr>\n",
       "  </thead>\n",
       "  <tbody>\n",
       "    <tr>\n",
       "      <th>0</th>\n",
       "      <td>1</td>\n",
       "      <td>Google Pixel 5</td>\n",
       "      <td>Android</td>\n",
       "      <td>393</td>\n",
       "      <td>6.4</td>\n",
       "      <td>1872</td>\n",
       "      <td>67</td>\n",
       "      <td>1122</td>\n",
       "      <td>40</td>\n",
       "      <td>Male</td>\n",
       "      <td>4</td>\n",
       "    </tr>\n",
       "    <tr>\n",
       "      <th>1</th>\n",
       "      <td>2</td>\n",
       "      <td>OnePlus 9</td>\n",
       "      <td>Android</td>\n",
       "      <td>268</td>\n",
       "      <td>4.7</td>\n",
       "      <td>1331</td>\n",
       "      <td>42</td>\n",
       "      <td>944</td>\n",
       "      <td>47</td>\n",
       "      <td>Female</td>\n",
       "      <td>3</td>\n",
       "    </tr>\n",
       "    <tr>\n",
       "      <th>2</th>\n",
       "      <td>3</td>\n",
       "      <td>Xiaomi Mi 11</td>\n",
       "      <td>Android</td>\n",
       "      <td>154</td>\n",
       "      <td>4.0</td>\n",
       "      <td>761</td>\n",
       "      <td>32</td>\n",
       "      <td>322</td>\n",
       "      <td>42</td>\n",
       "      <td>Male</td>\n",
       "      <td>2</td>\n",
       "    </tr>\n",
       "    <tr>\n",
       "      <th>3</th>\n",
       "      <td>4</td>\n",
       "      <td>Google Pixel 5</td>\n",
       "      <td>Android</td>\n",
       "      <td>239</td>\n",
       "      <td>4.8</td>\n",
       "      <td>1676</td>\n",
       "      <td>56</td>\n",
       "      <td>871</td>\n",
       "      <td>20</td>\n",
       "      <td>Male</td>\n",
       "      <td>3</td>\n",
       "    </tr>\n",
       "    <tr>\n",
       "      <th>4</th>\n",
       "      <td>5</td>\n",
       "      <td>iPhone 12</td>\n",
       "      <td>iOS</td>\n",
       "      <td>187</td>\n",
       "      <td>4.3</td>\n",
       "      <td>1367</td>\n",
       "      <td>58</td>\n",
       "      <td>988</td>\n",
       "      <td>31</td>\n",
       "      <td>Female</td>\n",
       "      <td>3</td>\n",
       "    </tr>\n",
       "  </tbody>\n",
       "</table>\n",
       "</div>"
      ],
      "text/plain": [
       "   user_id    device_model operating_system  app_usage_time_(min/day)  \\\n",
       "0        1  Google Pixel 5          Android                       393   \n",
       "1        2       OnePlus 9          Android                       268   \n",
       "2        3    Xiaomi Mi 11          Android                       154   \n",
       "3        4  Google Pixel 5          Android                       239   \n",
       "4        5       iPhone 12              iOS                       187   \n",
       "\n",
       "   screen_on_time_(hours/day)  battery_drain_(mAh/day)  \\\n",
       "0                         6.4                     1872   \n",
       "1                         4.7                     1331   \n",
       "2                         4.0                      761   \n",
       "3                         4.8                     1676   \n",
       "4                         4.3                     1367   \n",
       "\n",
       "   number_of_apps_installed  data_usage_(MB/day)  age  gender  \\\n",
       "0                        67                 1122   40    Male   \n",
       "1                        42                  944   47  Female   \n",
       "2                        32                  322   42    Male   \n",
       "3                        56                  871   20    Male   \n",
       "4                        58                  988   31  Female   \n",
       "\n",
       "   user_behavior_class  \n",
       "0                    4  \n",
       "1                    3  \n",
       "2                    2  \n",
       "3                    3  \n",
       "4                    3  "
      ]
     },
     "execution_count": 6,
     "metadata": {},
     "output_type": "execute_result"
    }
   ],
   "source": [
    "# Create an expectation suite\n",
    "context.add_or_update_expectation_suite('gx_val_suite')\n",
    "\n",
    "# Create a validator using above expectation suite\n",
    "validator = context.get_validator(\n",
    "    batch_request = batch_request,\n",
    "    expectation_suite_name = 'gx_val_suite'\n",
    ")\n",
    "\n",
    "# Show the output\n",
    "validator.head()"
   ]
  },
  {
   "cell_type": "markdown",
   "id": "863dcaee",
   "metadata": {},
   "source": [
    "**`Insights`**:\n",
    "- **`context.add_or_update_expectation_suite('gx_val_suite')`**: To hold all of the rules (expectations) needed to validate the data, create a new Expectation Suite called **`gx_val_suite`**.\n",
    "- **`validator = context.get_validator(...)`**: This creates a validator object that is used to apply various expectations to batch of data. Additionally, **`batch_request`** is the request for a batch of data from the datasource that created earlier, while the **`expectation_suite_name`** associates the validator with the suite where the expectations will be stored.\n",
    "- **`validator.head()`**: Displays the first 5 rows of data fetched by the validator. This is just to check if the batch has been read successfully."
   ]
  },
  {
   "cell_type": "markdown",
   "id": "8399c373",
   "metadata": {},
   "source": [
    "# **V. Create the Validators**"
   ]
  },
  {
   "cell_type": "markdown",
   "id": "664e48d8",
   "metadata": {},
   "source": [
    "## **V.I. Mandatory Expectations**"
   ]
  },
  {
   "cell_type": "markdown",
   "id": "ac6d6de6",
   "metadata": {},
   "source": [
    "### **A. To be Unique**"
   ]
  },
  {
   "cell_type": "code",
   "execution_count": 7,
   "id": "9f29da07",
   "metadata": {},
   "outputs": [
    {
     "data": {
      "application/vnd.jupyter.widget-view+json": {
       "model_id": "705e3c94c63442f1b1de7b37d1399942",
       "version_major": 2,
       "version_minor": 0
      },
      "text/plain": [
       "Calculating Metrics:   0%|          | 0/8 [00:00<?, ?it/s]"
      ]
     },
     "metadata": {},
     "output_type": "display_data"
    },
    {
     "data": {
      "text/plain": [
       "{\n",
       "  \"success\": true,\n",
       "  \"result\": {\n",
       "    \"element_count\": 700,\n",
       "    \"unexpected_count\": 0,\n",
       "    \"unexpected_percent\": 0.0,\n",
       "    \"partial_unexpected_list\": [],\n",
       "    \"missing_count\": 0,\n",
       "    \"missing_percent\": 0.0,\n",
       "    \"unexpected_percent_total\": 0.0,\n",
       "    \"unexpected_percent_nonmissing\": 0.0\n",
       "  },\n",
       "  \"meta\": {},\n",
       "  \"exception_info\": {\n",
       "    \"raised_exception\": false,\n",
       "    \"exception_traceback\": null,\n",
       "    \"exception_message\": null\n",
       "  }\n",
       "}"
      ]
     },
     "execution_count": 7,
     "metadata": {},
     "output_type": "execute_result"
    }
   ],
   "source": [
    "# Create \"values to be unique\" validator\n",
    "validator.expect_column_values_to_be_unique('user_id')"
   ]
  },
  {
   "cell_type": "markdown",
   "id": "cdac2c11",
   "metadata": {},
   "source": [
    "**`Insights`**:<p>\n",
    "This expectation is used to ensure that all values ​​in the user_id column are unique, meaning there are no duplicates. If all values ​​in the **`user_id`** column are unique, then the result will be success: true"
   ]
  },
  {
   "cell_type": "markdown",
   "id": "64976a93",
   "metadata": {},
   "source": [
    "### **B. To be between Min_value and Max_value**"
   ]
  },
  {
   "cell_type": "code",
   "execution_count": null,
   "id": "5b5527f2",
   "metadata": {},
   "outputs": [
    {
     "data": {
      "application/vnd.jupyter.widget-view+json": {
       "model_id": "b2a3cc7bd0fa4e6b8655a11f363380b6",
       "version_major": 2,
       "version_minor": 0
      },
      "text/plain": [
       "Calculating Metrics:   0%|          | 0/8 [00:00<?, ?it/s]"
      ]
     },
     "metadata": {},
     "output_type": "display_data"
    },
    {
     "data": {
      "text/plain": [
       "{\n",
       "  \"success\": true,\n",
       "  \"result\": {\n",
       "    \"element_count\": 700,\n",
       "    \"unexpected_count\": 0,\n",
       "    \"unexpected_percent\": 0.0,\n",
       "    \"partial_unexpected_list\": [],\n",
       "    \"missing_count\": 0,\n",
       "    \"missing_percent\": 0.0,\n",
       "    \"unexpected_percent_total\": 0.0,\n",
       "    \"unexpected_percent_nonmissing\": 0.0\n",
       "  },\n",
       "  \"meta\": {},\n",
       "  \"exception_info\": {\n",
       "    \"raised_exception\": false,\n",
       "    \"exception_traceback\": null,\n",
       "    \"exception_message\": null\n",
       "  }\n",
       "}"
      ]
     },
     "execution_count": 10,
     "metadata": {},
     "output_type": "execute_result"
    }
   ],
   "source": [
    "# Create \"values to be between min_value and max_value\" validator\n",
    "validator.expect_column_values_to_be_between('screen_on_time_(hours/day)',\n",
    "                                             min_value = 0, max_value = 24\n",
    ")"
   ]
  },
  {
   "cell_type": "markdown",
   "id": "ee23d8cb",
   "metadata": {},
   "source": [
    "**`Insights`**:\n",
    "- The column contains no values that fall outside of the 0–24 hour range.\n",
    "- Since every element satisfies the requirements, there are no unexpected or missing values.\n",
    "\n",
    "**`Summary of the results:`**\n",
    "- Total elements: **700**\n",
    "- Number of unexpected elements: **0**\n",
    "- Percentage of unexpected elements: **0.0%**\n",
    "- Number of missing values: **0**\n",
    "- Percentage of missing values: **0.0%**"
   ]
  },
  {
   "cell_type": "markdown",
   "id": "fd2157db",
   "metadata": {},
   "source": [
    "### **C. To be in Set**"
   ]
  },
  {
   "cell_type": "code",
   "execution_count": 11,
   "id": "0c7fbeb1",
   "metadata": {},
   "outputs": [
    {
     "data": {
      "application/vnd.jupyter.widget-view+json": {
       "model_id": "6ad224527fb4459ab49f30a1f05b5528",
       "version_major": 2,
       "version_minor": 0
      },
      "text/plain": [
       "Calculating Metrics:   0%|          | 0/8 [00:00<?, ?it/s]"
      ]
     },
     "metadata": {},
     "output_type": "display_data"
    },
    {
     "data": {
      "text/plain": [
       "{\n",
       "  \"success\": true,\n",
       "  \"result\": {\n",
       "    \"element_count\": 700,\n",
       "    \"unexpected_count\": 0,\n",
       "    \"unexpected_percent\": 0.0,\n",
       "    \"partial_unexpected_list\": [],\n",
       "    \"missing_count\": 0,\n",
       "    \"missing_percent\": 0.0,\n",
       "    \"unexpected_percent_total\": 0.0,\n",
       "    \"unexpected_percent_nonmissing\": 0.0\n",
       "  },\n",
       "  \"meta\": {},\n",
       "  \"exception_info\": {\n",
       "    \"raised_exception\": false,\n",
       "    \"exception_traceback\": null,\n",
       "    \"exception_message\": null\n",
       "  }\n",
       "}"
      ]
     },
     "execution_count": 11,
     "metadata": {},
     "output_type": "execute_result"
    }
   ],
   "source": [
    "# Create \"values_to_be_in_set\" validator\n",
    "validator.expect_column_values_to_be_in_set('operating_system',\n",
    "                                            value_set = ['Android', 'iOS'])"
   ]
  },
  {
   "cell_type": "markdown",
   "id": "f4f76250",
   "metadata": {},
   "source": [
    "**`Summary`**:<p>\n",
    "The result of the **`expect_column_values_to_be_in_set`** validation shows that the validation was successful with the result **success: true**, which means that all values ​​in the operating_system column are in the specified set, namely **`['Android', 'iOS']`**.\n",
    "\n",
    "**`Insights`**:<p>\n",
    "- No values exist outside of the designated set. One of the two permitted values Android or iOS is present in every value in the **`operating_system`** column.\n",
    "- Since every element satisfies the requirements, there are no unexpected or missing values."
   ]
  },
  {
   "cell_type": "markdown",
   "id": "efea06b8",
   "metadata": {},
   "source": [
    "### **D. To be in Type List**"
   ]
  },
  {
   "cell_type": "code",
   "execution_count": null,
   "id": "3573763d",
   "metadata": {},
   "outputs": [
    {
     "data": {
      "application/vnd.jupyter.widget-view+json": {
       "model_id": "aaaa3278d9904935bae48e80da0bee07",
       "version_major": 2,
       "version_minor": 0
      },
      "text/plain": [
       "Calculating Metrics:   0%|          | 0/1 [00:00<?, ?it/s]"
      ]
     },
     "metadata": {},
     "output_type": "display_data"
    },
    {
     "data": {
      "text/plain": [
       "{\n",
       "  \"success\": false,\n",
       "  \"result\": {\n",
       "    \"observed_value\": \"int64\"\n",
       "  },\n",
       "  \"meta\": {},\n",
       "  \"exception_info\": {\n",
       "    \"raised_exception\": false,\n",
       "    \"exception_traceback\": null,\n",
       "    \"exception_message\": null\n",
       "  }\n",
       "}"
      ]
     },
     "execution_count": 12,
     "metadata": {},
     "output_type": "execute_result"
    }
   ],
   "source": [
    "# Create \"to_be_in_type_list\" validator\n",
    "validator.expect_column_values_to_be_in_type_list('app_usage_time_(min/day)',\n",
    "                                                  type_list = ['int']\n",
    ")"
   ]
  },
  {
   "cell_type": "markdown",
   "id": "3f07b370",
   "metadata": {},
   "source": [
    "**`Insights`**: <p>\n",
    "**`expect_column_values_to_be_in_type_list`**'s \"success\": false and \"observed_value\": \"int64\" results highlight that the app_usage_time_(min/day) column's actual data type is int64 rather than \"int\" as specified in the type_list.<p>\n",
    "The corrected code will be: **`type_list=['int64']`**. The result will be **\"success\": true**."
   ]
  },
  {
   "cell_type": "markdown",
   "id": "51bf9891",
   "metadata": {},
   "source": [
    "## **V.II. Other Expectations**"
   ]
  },
  {
   "cell_type": "markdown",
   "id": "7b088001",
   "metadata": {},
   "source": [
    "### **A. Values X To be Greater than Y**"
   ]
  },
  {
   "cell_type": "code",
   "execution_count": 14,
   "id": "32d0b1bc",
   "metadata": {},
   "outputs": [
    {
     "data": {
      "application/vnd.jupyter.widget-view+json": {
       "model_id": "df00b93cabcb46c19e564fb6491e19c0",
       "version_major": 2,
       "version_minor": 0
      },
      "text/plain": [
       "Calculating Metrics:   0%|          | 0/7 [00:00<?, ?it/s]"
      ]
     },
     "metadata": {},
     "output_type": "display_data"
    },
    {
     "data": {
      "text/plain": [
       "{\n",
       "  \"success\": true,\n",
       "  \"result\": {\n",
       "    \"element_count\": 700,\n",
       "    \"unexpected_count\": 0,\n",
       "    \"unexpected_percent\": 0.0,\n",
       "    \"partial_unexpected_list\": [],\n",
       "    \"missing_count\": 0,\n",
       "    \"missing_percent\": 0.0,\n",
       "    \"unexpected_percent_total\": 0.0,\n",
       "    \"unexpected_percent_nonmissing\": 0.0\n",
       "  },\n",
       "  \"meta\": {},\n",
       "  \"exception_info\": {\n",
       "    \"raised_exception\": false,\n",
       "    \"exception_traceback\": null,\n",
       "    \"exception_message\": null\n",
       "  }\n",
       "}"
      ]
     },
     "execution_count": 14,
     "metadata": {},
     "output_type": "execute_result"
    }
   ],
   "source": [
    "# Create \"values_x_to_be_greater_than_y\" validator\n",
    "validator.expect_column_pair_values_A_to_be_greater_than_B(column_A = 'battery_drain_(mAh/day)', \n",
    "                                                           column_B = 'screen_on_time_(hours/day)'\n",
    ")"
   ]
  },
  {
   "cell_type": "markdown",
   "id": "0026a892",
   "metadata": {},
   "source": [
    "**`Summary`**:<p>\n",
    "The result of the validation **`expect_column_pair_values_A_to_be_greater_than_B`** shows that the validation was successful with the result **`success: true`**. This means that the value in the **`battery_drain_(mAh/day)`** column is always greater than the value in the **`screen_on_time_(hours/day)`** column for each relevant data pair.\n",
    "\n",
    "**`Insights`**:\n",
    "- There are no value pairs that violate expectations, meaning that for each row of data, the **`battery_drain_(mAh/day)`** value is always greater than the **`screen_on_time_(hours/day)`**.\n",
    "- There are no missing or unexpected values, meaning that the data is complete and valid according to the rules that have been determined."
   ]
  },
  {
   "cell_type": "markdown",
   "id": "04726747",
   "metadata": {},
   "source": [
    "### **B. Column Mean with Range**"
   ]
  },
  {
   "cell_type": "code",
   "execution_count": 15,
   "id": "867b4eb6",
   "metadata": {},
   "outputs": [
    {
     "data": {
      "application/vnd.jupyter.widget-view+json": {
       "model_id": "d22ab1f8b5ae43ca8d6f8225987ddfae",
       "version_major": 2,
       "version_minor": 0
      },
      "text/plain": [
       "Calculating Metrics:   0%|          | 0/4 [00:00<?, ?it/s]"
      ]
     },
     "metadata": {},
     "output_type": "display_data"
    },
    {
     "data": {
      "text/plain": [
       "{\n",
       "  \"success\": true,\n",
       "  \"result\": {\n",
       "    \"observed_value\": 5.272714285714286\n",
       "  },\n",
       "  \"meta\": {},\n",
       "  \"exception_info\": {\n",
       "    \"raised_exception\": false,\n",
       "    \"exception_traceback\": null,\n",
       "    \"exception_message\": null\n",
       "  }\n",
       "}"
      ]
     },
     "execution_count": 15,
     "metadata": {},
     "output_type": "execute_result"
    }
   ],
   "source": [
    "# Create \"column_mean_with_range\" validator\n",
    "validator.expect_column_mean_to_be_between('screen_on_time_(hours/day)',\n",
    "                                           min_value = 1, max_value = 10)"
   ]
  },
  {
   "cell_type": "markdown",
   "id": "ad2631ff",
   "metadata": {},
   "source": [
    "**`Summary`**:<p>\n",
    "The **`expect_column_mean_to_be_between`** validator produces results that demonstrate the success of the expectation **(\"success\": true)**. In other words, the **`screen_on_time_(hours/day)`** column's average value falls between 1 and 10, which is the expected range.\n",
    "\n",
    "**`Insights`**:<p>\n",
    "Observed average (observed_value): **5.27** hours per day. This is in the middle of the specified range (between 1 and 10), indicating that the data is **fairly** stable and within reasonable limits for daily screen time."
   ]
  },
  {
   "cell_type": "markdown",
   "id": "2c0b039e",
   "metadata": {},
   "source": [
    "### **C. Value Lengths to be Between**"
   ]
  },
  {
   "cell_type": "code",
   "execution_count": null,
   "id": "0faba93a",
   "metadata": {},
   "outputs": [
    {
     "data": {
      "application/vnd.jupyter.widget-view+json": {
       "model_id": "bc8ef88f23b243ee93dd7565992c896e",
       "version_major": 2,
       "version_minor": 0
      },
      "text/plain": [
       "Calculating Metrics:   0%|          | 0/9 [00:00<?, ?it/s]"
      ]
     },
     "metadata": {},
     "output_type": "display_data"
    },
    {
     "data": {
      "text/plain": [
       "{\n",
       "  \"success\": true,\n",
       "  \"result\": {\n",
       "    \"element_count\": 700,\n",
       "    \"unexpected_count\": 0,\n",
       "    \"unexpected_percent\": 0.0,\n",
       "    \"partial_unexpected_list\": [],\n",
       "    \"missing_count\": 0,\n",
       "    \"missing_percent\": 0.0,\n",
       "    \"unexpected_percent_total\": 0.0,\n",
       "    \"unexpected_percent_nonmissing\": 0.0\n",
       "  },\n",
       "  \"meta\": {},\n",
       "  \"exception_info\": {\n",
       "    \"raised_exception\": false,\n",
       "    \"exception_traceback\": null,\n",
       "    \"exception_message\": null\n",
       "  }\n",
       "}"
      ]
     },
     "execution_count": 16,
     "metadata": {},
     "output_type": "execute_result"
    }
   ],
   "source": [
    "# Create \"value_lengths_to_be_between\" validator\n",
    "validator.expect_column_value_lengths_to_be_between('operating_system',\n",
    "                                                    min_value = 3)"
   ]
  },
  {
   "cell_type": "markdown",
   "id": "1130514f",
   "metadata": {},
   "source": [
    "**`Summary`**:<p>\n",
    "The result of expectation **`expect_column_value_lengths_to_be_between`** shows that all values ​​in the operating_system column have a string length (number of characters) of at least 3 or more, as per your expectation **`(min_value=3)`**, and no values ​​fail to meet this requirement.\n",
    "\n",
    "**`Insights`**:<p>\n",
    "- The number of characters in each string value in the column is checked by this function.\n",
    "- \"Android\" and \"iOS\" are the only two distinct values in the operating_system field, and they are both at least three lengths.\n",
    "- \"iOS\": three characters\n",
    "- \"Android\" has seven characters.\n",
    "- The outcome is \"success\": true since all of the data is legitimate."
   ]
  },
  {
   "cell_type": "markdown",
   "id": "2567d31b",
   "metadata": {},
   "source": [
    "# **VI. Save into Expectation Suite**"
   ]
  },
  {
   "cell_type": "code",
   "execution_count": null,
   "id": "29f66a82",
   "metadata": {},
   "outputs": [],
   "source": [
    "# Save into Expectation Suite\n",
    "validator.save_expectation_suite(discard_failed_expectations = False)"
   ]
  },
  {
   "cell_type": "markdown",
   "id": "aa763925",
   "metadata": {},
   "source": [
    "# **VII. Run Checkpoints and Build Docs**"
   ]
  },
  {
   "cell_type": "code",
   "execution_count": 18,
   "id": "c6566359",
   "metadata": {},
   "outputs": [
    {
     "data": {
      "application/vnd.jupyter.widget-view+json": {
       "model_id": "1f32e56d130d4262bec54413655bfc11",
       "version_major": 2,
       "version_minor": 0
      },
      "text/plain": [
       "Calculating Metrics:   0%|          | 0/37 [00:00<?, ?it/s]"
      ]
     },
     "metadata": {},
     "output_type": "display_data"
    },
    {
     "data": {
      "text/plain": [
       "{'local_site': 'file://c:\\\\gx\\\\uncommitted/data_docs/local_site/index.html'}"
      ]
     },
     "execution_count": 18,
     "metadata": {},
     "output_type": "execute_result"
    }
   ],
   "source": [
    "# Create a checkpoint\n",
    "checkpoint_1 = context.add_or_update_checkpoint(\n",
    "    name = 'checkpoint_1',\n",
    "    validator = validator,\n",
    ")\n",
    "\n",
    "# Run a checkpoint\n",
    "checkpoint_result = checkpoint_1.run()\n",
    "\n",
    "# Build data docs\n",
    "context.build_data_docs()"
   ]
  },
  {
   "cell_type": "markdown",
   "id": "546e7431",
   "metadata": {},
   "source": [
    "# **VIII. Conclusion**"
   ]
  },
  {
   "cell_type": "markdown",
   "id": "cda9ccb7",
   "metadata": {},
   "source": [
    "The notebook effectively illustrates that Great-Expectations (GX) data validation may be carried out effectively without the requirement for Docker or other intricate setups. The entire procedure is carried out locally using a standard Python environment and the FileDataContext technique, which organizes and stores GX setup and information within the project folder. Although during the program there was a slight error regarding its contents, namely from int to int64. The rest of the coding runs (almost) perfectly."
   ]
  },
  {
   "cell_type": "markdown",
   "id": "85b88360",
   "metadata": {},
   "source": [
    "**FYI**: I had already done by doing the visualization using Kibana. But somehow, when I load the data it shows 2800 hits. The actual dataset is 700 hits. I created with 2800 hits with complete explaination. The hits should be divided by 4: 2800 / 4. I will explain later on **Milestone 3 Presentation** about this for the actual data."
   ]
  }
 ],
 "metadata": {
  "kernelspec": {
   "display_name": "base",
   "language": "python",
   "name": "python3"
  },
  "language_info": {
   "codemirror_mode": {
    "name": "ipython",
    "version": 3
   },
   "file_extension": ".py",
   "mimetype": "text/x-python",
   "name": "python",
   "nbconvert_exporter": "python",
   "pygments_lexer": "ipython3",
   "version": "3.12.7"
  }
 },
 "nbformat": 4,
 "nbformat_minor": 5
}
